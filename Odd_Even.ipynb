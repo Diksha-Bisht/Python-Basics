{
  "nbformat": 4,
  "nbformat_minor": 0,
  "metadata": {
    "colab": {
      "name": "Odd/Even.ipynb",
      "provenance": [],
      "collapsed_sections": [
        "jlM6rk1ephEY"
      ],
      "toc_visible": true,
      "authorship_tag": "ABX9TyOHi5zUaR1i6lKmo0W5Ce5Y",
      "include_colab_link": true
    },
    "kernelspec": {
      "name": "python3",
      "display_name": "Python 3"
    },
    "language_info": {
      "name": "python"
    }
  },
  "cells": [
    {
      "cell_type": "markdown",
      "metadata": {
        "id": "view-in-github",
        "colab_type": "text"
      },
      "source": [
        "<a href=\"https://colab.research.google.com/github/Diksha-Bisht/Python-Basics/blob/main/Odd_Even.ipynb\" target=\"_parent\"><img src=\"https://colab.research.google.com/assets/colab-badge.svg\" alt=\"Open In Colab\"/></a>"
      ]
    },
    {
      "cell_type": "markdown",
      "metadata": {
        "id": "j13Nut00sB8x"
      },
      "source": [
        "# Personal Details\n",
        "\n",
        "**Name**: Diksha Bisht\n"
      ]
    },
    {
      "cell_type": "markdown",
      "metadata": {
        "id": "jlM6rk1ephEY"
      },
      "source": [
        "# Question\n",
        "\n",
        "Using if-elif-else statements, execute a python code to determine whether a number is odd or even or zero. "
      ]
    },
    {
      "cell_type": "markdown",
      "metadata": {
        "id": "mcNs7wy1rc_K"
      },
      "source": [
        "**Even Number** is multiple of 2 **or** divisible by 2.\n",
        "\n",
        "**Odd Number** is not a multiple of 2 **or** not divisible by 2."
      ]
    },
    {
      "cell_type": "code",
      "metadata": {
        "colab": {
          "base_uri": "https://localhost:8080/",
          "height": 0
        },
        "id": "HXlePUYCpTfL",
        "outputId": "afea6894-e26e-4b44-9b29-3f1d5378e7cc"
      },
      "source": [
        "#Getting a number\n",
        "n=int(input('Enter a number(Integer) '))"
      ],
      "execution_count": 1,
      "outputs": [
        {
          "output_type": "stream",
          "text": [
            "Enter a number(Integer) 6\n"
          ],
          "name": "stdout"
        }
      ]
    },
    {
      "cell_type": "code",
      "metadata": {
        "colab": {
          "base_uri": "https://localhost:8080/",
          "height": 0
        },
        "id": "oM1zm3XDqHk1",
        "outputId": "8db1de33-2179-4bc5-b862-44d50c7f8fa4"
      },
      "source": [
        "#logic for determining the kind of number\n",
        "if(n%2==0):         \n",
        "  print(n,' is an Even number.')\n",
        "elif(n==0):\n",
        "  print(n,' is Zero')\n",
        "else:\n",
        "  print(n, ' is an Odd number')"
      ],
      "execution_count": 3,
      "outputs": [
        {
          "output_type": "stream",
          "text": [
            "6  is an Even number.\n"
          ],
          "name": "stdout"
        }
      ]
    }
  ]
}